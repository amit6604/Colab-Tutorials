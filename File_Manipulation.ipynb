{
  "nbformat": 4,
  "nbformat_minor": 0,
  "metadata": {
    "colab": {
      "name": "File Manipulation.ipynb",
      "version": "0.3.2",
      "provenance": [],
      "include_colab_link": true
    },
    "kernelspec": {
      "name": "python3",
      "display_name": "Python 3"
    },
    "accelerator": "GPU"
  },
  "cells": [
    {
      "cell_type": "markdown",
      "metadata": {
        "id": "view-in-github",
        "colab_type": "text"
      },
      "source": [
        "<a href=\"https://colab.research.google.com/github/amit6604/Colab-Tutorials/blob/master/File_Manipulation.ipynb\" target=\"_parent\"><img src=\"https://colab.research.google.com/assets/colab-badge.svg\" alt=\"Open In Colab\"/></a>"
      ]
    },
    {
      "cell_type": "markdown",
      "metadata": {
        "id": "_3GfYieiUoUK",
        "colab_type": "text"
      },
      "source": [
        "# You will learn\n",
        "\n",
        "1) How to write file in colab\n",
        "\n",
        "2) How to read file in colab\n",
        "\n",
        "3) How to modify file in colab\n",
        "\n",
        "4) How to download file in Colab\n"
      ]
    },
    {
      "cell_type": "code",
      "metadata": {
        "id": "0E3anhQwVokb",
        "colab_type": "code",
        "colab": {
          "base_uri": "https://localhost:8080/",
          "height": 34
        },
        "outputId": "46ae1233-92fc-45e8-b09c-5bf7e368df33"
      },
      "source": [
        "# How to write file in colab\n",
        "\n",
        "from google.colab import files\n",
        "\n",
        "my_text = \"Hello world\"\n",
        "\n",
        "my_file = open(\"my_file.txt\",'w')\n",
        "\n",
        "my_file.write(my_text)"
      ],
      "execution_count": 11,
      "outputs": [
        {
          "output_type": "execute_result",
          "data": {
            "text/plain": [
              "11"
            ]
          },
          "metadata": {
            "tags": []
          },
          "execution_count": 11
        }
      ]
    },
    {
      "cell_type": "code",
      "metadata": {
        "id": "rQE_vl7fV6Ov",
        "colab_type": "code",
        "colab": {
          "base_uri": "https://localhost:8080/",
          "height": 34
        },
        "outputId": "48ee58fe-2c97-4a8d-b636-87a577c2e473"
      },
      "source": [
        "# How to read file in colab\n",
        "\n",
        "read_file = open('my_file.txt','r')\n",
        "\n",
        "print(read_file.read())\n"
      ],
      "execution_count": 12,
      "outputs": [
        {
          "output_type": "stream",
          "text": [
            "Hello world\n"
          ],
          "name": "stdout"
        }
      ]
    },
    {
      "cell_type": "code",
      "metadata": {
        "id": "kIJKuo_2WWNr",
        "colab_type": "code",
        "colab": {
          "base_uri": "https://localhost:8080/",
          "height": 51
        },
        "outputId": "a022e8b9-5803-4954-b2e2-b1072b0115d1"
      },
      "source": [
        "# How to Modify file in colab\n",
        "\n",
        "my_file = open('my_file.txt','a')\n",
        "\n",
        "my_file.write(\"\\n My new text\")\n",
        "\n",
        "read_file = open('my_file.txt','r')\n",
        "\n",
        "print(read_file.read())"
      ],
      "execution_count": 14,
      "outputs": [
        {
          "output_type": "stream",
          "text": [
            "Hello world\n",
            " My new text\n"
          ],
          "name": "stdout"
        }
      ]
    },
    {
      "cell_type": "code",
      "metadata": {
        "id": "0FHmX_HxXI4j",
        "colab_type": "code",
        "colab": {}
      },
      "source": [
        "# How to download file in colab\n",
        "\n",
        "files.download('my_file.txt')\n",
        "\n",
        "\n",
        "row1 = '1,2,3,4,5'\n",
        "row2 = '5,6,7,8,9'\n",
        "\n",
        "csv_file = open('sample_file.csv','w')\n",
        "\n",
        "csv_file.write(row1)\n",
        "csv_file.write('\\n'+row2)\n",
        "\n",
        "files.download('sample_file.csv')"
      ],
      "execution_count": 0,
      "outputs": []
    },
    {
      "cell_type": "code",
      "metadata": {
        "id": "Dh4-5iLLY_7E",
        "colab_type": "code",
        "colab": {}
      },
      "source": [
        ""
      ],
      "execution_count": 0,
      "outputs": []
    }
  ]
}