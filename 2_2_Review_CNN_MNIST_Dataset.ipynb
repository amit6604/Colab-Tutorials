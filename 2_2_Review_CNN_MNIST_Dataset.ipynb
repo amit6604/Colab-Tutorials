{
  "nbformat": 4,
  "nbformat_minor": 0,
  "metadata": {
    "colab": {
      "name": "2.2-Review-CNN-MNIST-Dataset.ipynb",
      "version": "0.3.2",
      "provenance": [],
      "include_colab_link": true
    },
    "language_info": {
      "codemirror_mode": {
        "name": "ipython",
        "version": 3
      },
      "file_extension": ".py",
      "mimetype": "text/x-python",
      "name": "python",
      "nbconvert_exporter": "python",
      "pygments_lexer": "ipython3",
      "version": "3.6.8"
    },
    "kernelspec": {
      "name": "python3",
      "display_name": "Python 3"
    },
    "accelerator": "GPU"
  },
  "cells": [
    {
      "cell_type": "markdown",
      "metadata": {
        "id": "view-in-github",
        "colab_type": "text"
      },
      "source": [
        "<a href=\"https://colab.research.google.com/github/amit6604/Colab-Tutorials/blob/master/2_2_Review_CNN_MNIST_Dataset.ipynb\" target=\"_parent\"><img src=\"https://colab.research.google.com/assets/colab-badge.svg\" alt=\"Open In Colab\"/></a>"
      ]
    },
    {
      "cell_type": "markdown",
      "metadata": {
        "id": "vhxzJCL8XY4N",
        "colab_type": "text"
      },
      "source": [
        "<h1 align=\"center\"><font size=\"5\">CONVOLUTIONAL NEURAL NETWORK APPLICATION</font></h1>"
      ]
    },
    {
      "cell_type": "markdown",
      "metadata": {
        "id": "3Ra-bdRnXY4Q",
        "colab_type": "text"
      },
      "source": [
        "<h2>Introduction</h2>"
      ]
    },
    {
      "cell_type": "markdown",
      "metadata": {
        "id": "Mq6exDe-XY4S",
        "colab_type": "text"
      },
      "source": [
        "In this section, we will use the famous [MNIST Dataset](http://yann.lecun.com/exdb/mnist/) to build two Neural Networks capable to perform handwritten digits classification. The first Network is a simple Multi-layer Perceptron (MLP) and the second one is a Convolutional Neural Network (CNN from now on). In other words, when given an input our algorithm will say, with some associated error, what type of digit this input represents."
      ]
    },
    {
      "cell_type": "markdown",
      "metadata": {
        "id": "rdUBQ60eXY4T",
        "colab_type": "text"
      },
      "source": [
        "---"
      ]
    },
    {
      "cell_type": "markdown",
      "metadata": {
        "id": "pxJj0JJQXY4U",
        "colab_type": "text"
      },
      "source": [
        "\n",
        "<div class=\"alert alert-block alert-info\" style=\"margin-top: 20px\">\n",
        "<font size = 3><strong>Click on the links to go to the following sections:</strong></font>\n",
        "<br>\n",
        "<h2>Table of Contents</h2>\n",
        "<ol>\n",
        "    <li><a href=\"#ref1\">What is Deep Learning</a></li>\n",
        "    <li><a href=\"#ref2\">Simple test: Is TensorFlow working?</a></li>\n",
        "    <li><a href=\"#ref3\">1st part: classify MNIST using a simple model</a></li>\n",
        "    <li><a href=\"#ref4\">Evaluating the final result</a></li>\n",
        "    <li><a href=\"#ref5\">How to improve our model?</a></li>\n",
        "    <li><a href=\"#ref6\">2nd part: Deep Learning applied on MNIST</a></li>\n",
        "    <li><a href=\"#ref7\">Summary of the Deep Convolutional Neural Network</a></li>\n",
        "    <li><a href=\"#ref8\">Define functions and train the model</a></li>\n",
        "    <li><a href=\"#ref9\">Evaluate the model</a></li>\n",
        "</ol>    \n",
        "</div>"
      ]
    },
    {
      "cell_type": "markdown",
      "metadata": {
        "id": "UbM4oO4IXY4V",
        "colab_type": "text"
      },
      "source": [
        "<hr>"
      ]
    },
    {
      "cell_type": "markdown",
      "metadata": {
        "id": "Y5xC1HLjXY4W",
        "colab_type": "text"
      },
      "source": [
        "<a id=\"ref1\"></a>\n",
        "<h2>What is Deep Learning?</h2>"
      ]
    },
    {
      "cell_type": "markdown",
      "metadata": {
        "id": "bfExrn29XY4X",
        "colab_type": "text"
      },
      "source": [
        "<b>Brief Theory:</b> Deep learning (also known as deep structured learning, hierarchical learning or deep machine learning) is a branch of machine learning based on a set of algorithms that attempt to model high-level abstractions in data by using multiple processing layers, with complex structures or otherwise, composed of multiple non-linear transformations."
      ]
    },
    {
      "cell_type": "markdown",
      "metadata": {
        "id": "F1dssDKwXY4Z",
        "colab_type": "text"
      },
      "source": [
        "<img src=\"https://ibm.box.com/shared/static/gcbbrh440604cj2nksu3f44be87b8ank.png\" alt=\"HTML5 Icon\" style=\"width: 600px; height: 450px;\">\n",
        "<div style=\"text-align: center\">It's time for deep learning. Our brain doesn't work with only one or three layers. Why it would be different with machines?. </div>"
      ]
    },
    {
      "cell_type": "markdown",
      "metadata": {
        "id": "8KHxqSbKXY4a",
        "colab_type": "text"
      },
      "source": [
        "<b>In Practice, defining the term \"Deep\":</b> in this context, deep means that we are studying a Neural Network which has several hidden layers (more than one), no matter what type (convolutional, pooling, normalization, fully-connected etc). The most interesting part is that some papers noticed that Deep Neural Networks with the right architectures/hyper-parameters achieve better results than shallow Neural Networks with the same computational power (e.g. number of neurons or connections). "
      ]
    },
    {
      "cell_type": "markdown",
      "metadata": {
        "id": "C4pOzSM4XY4b",
        "colab_type": "text"
      },
      "source": [
        "<b>In Practice, defining \"Learning\":</b> In the context of supervised learning, digits recognition in our case, the learning part consists of a target/feature which is to be predicted using a given set of observations with the already known final prediction (label). In our case, the target will be the digit (0, 1, 2, 3, 4, 5, 6, 7, 8, 9) and the observations are the intensity and relative position of the pixels. After some training, it is possible to generate a \"function\" that map inputs (digit image) to desired outputs(type of digit). The only problem is how well this map operation occurs. While trying to generate this \"function\", the training process continues until the model achieves a desired level of accuracy on the training data."
      ]
    },
    {
      "cell_type": "markdown",
      "metadata": {
        "id": "Yvk4a5d5XY4c",
        "colab_type": "text"
      },
      "source": [
        "<hr>"
      ]
    },
    {
      "cell_type": "markdown",
      "metadata": {
        "id": "Nztl-GFoXY4d",
        "colab_type": "text"
      },
      "source": [
        "<b>Notice:</b> This notebook has been created with TensorFlow version 1.8, and might not work with other versions."
      ]
    },
    {
      "cell_type": "code",
      "metadata": {
        "id": "k3KlutneXY4e",
        "colab_type": "code",
        "colab": {
          "base_uri": "https://localhost:8080/",
          "height": 34
        },
        "outputId": "ba1e7033-6986-460d-b2d0-8ab32b6ac57b"
      },
      "source": [
        "import tensorflow as tf\n",
        "tf.__version__"
      ],
      "execution_count": 1,
      "outputs": [
        {
          "output_type": "execute_result",
          "data": {
            "text/plain": [
              "'1.14.0-rc1'"
            ]
          },
          "metadata": {
            "tags": []
          },
          "execution_count": 1
        }
      ]
    },
    {
      "cell_type": "markdown",
      "metadata": {
        "id": "1jfUN2ABXY4m",
        "colab_type": "text"
      },
      "source": [
        "In this tutorial, we first classify MNIST using a simple Multi-layer perceptron and then, in the second part, we use deeplearning to improve the accuracy of our results.\n",
        "\n",
        "<a id=\"ref3\"></a>\n",
        "<h2>1st part: classify MNIST using a simple model.</h2>"
      ]
    },
    {
      "cell_type": "markdown",
      "metadata": {
        "id": "PyRjPQ1mXY4n",
        "colab_type": "text"
      },
      "source": [
        "We are going to create a simple Multi-layer perceptron, a simple type of Neural Network, to perform classification tasks on the MNIST digits dataset. If you are not familiar with the MNIST dataset, please consider to read more about it: <a href=\"http://yann.lecun.com/exdb/mnist/\">click here</a> "
      ]
    },
    {
      "cell_type": "markdown",
      "metadata": {
        "id": "uM96lFeAXY4o",
        "colab_type": "text"
      },
      "source": [
        "<h3>What is MNIST?</h3>"
      ]
    },
    {
      "cell_type": "markdown",
      "metadata": {
        "id": "BSkM0-O9XY4p",
        "colab_type": "text"
      },
      "source": [
        "According to LeCun's website, the MNIST is a: \"database of handwritten digits that has a training set of 60,000 examples, and a test set of 10,000 examples. It is a subset of a larger set available from NIST. The digits have been size-normalized and centered in a fixed-size image\"."
      ]
    },
    {
      "cell_type": "markdown",
      "metadata": {
        "id": "qlln6G8yXY4q",
        "colab_type": "text"
      },
      "source": [
        "<h3>Import the MNIST dataset using TensorFlow built-in feature</h3>"
      ]
    },
    {
      "cell_type": "markdown",
      "metadata": {
        "id": "meYalbyMXY4r",
        "colab_type": "text"
      },
      "source": [
        "It's very important to notice that MNIST is a high optimized data-set and it does not contain images. You will need to build your own code if you want to see the real digits. Another important side note is the effort that the authors invested on this data-set with normalization and centering operations.  "
      ]
    },
    {
      "cell_type": "code",
      "metadata": {
        "id": "IY4FjtzTXY4r",
        "colab_type": "code",
        "colab": {
          "base_uri": "https://localhost:8080/",
          "height": 547
        },
        "outputId": "7e5a37f7-7241-4db5-abc5-122ea4a22cf8"
      },
      "source": [
        "from tensorflow.examples.tutorials.mnist import input_data\n",
        "mnist = input_data.read_data_sets(\"MNIST_data/\", one_hot=True)"
      ],
      "execution_count": 2,
      "outputs": [
        {
          "output_type": "stream",
          "text": [
            "WARNING: Logging before flag parsing goes to stderr.\n",
            "W0626 10:39:40.967363 140067972093824 deprecation.py:323] From <ipython-input-2-8bf8ae5a5303>:2: read_data_sets (from tensorflow.contrib.learn.python.learn.datasets.mnist) is deprecated and will be removed in a future version.\n",
            "Instructions for updating:\n",
            "Please use alternatives such as official/mnist/dataset.py from tensorflow/models.\n",
            "W0626 10:39:40.969024 140067972093824 deprecation.py:323] From /usr/local/lib/python3.6/dist-packages/tensorflow/contrib/learn/python/learn/datasets/mnist.py:260: maybe_download (from tensorflow.contrib.learn.python.learn.datasets.base) is deprecated and will be removed in a future version.\n",
            "Instructions for updating:\n",
            "Please write your own downloading logic.\n",
            "W0626 10:39:40.970183 140067972093824 deprecation.py:323] From /usr/local/lib/python3.6/dist-packages/tensorflow/contrib/learn/python/learn/datasets/base.py:252: _internal_retry.<locals>.wrap.<locals>.wrapped_fn (from tensorflow.contrib.learn.python.learn.datasets.base) is deprecated and will be removed in a future version.\n",
            "Instructions for updating:\n",
            "Please use urllib or similar directly.\n",
            "W0626 10:39:41.326891 140067972093824 deprecation.py:323] From /usr/local/lib/python3.6/dist-packages/tensorflow/contrib/learn/python/learn/datasets/mnist.py:262: extract_images (from tensorflow.contrib.learn.python.learn.datasets.mnist) is deprecated and will be removed in a future version.\n",
            "Instructions for updating:\n",
            "Please use tf.data to implement this functionality.\n"
          ],
          "name": "stderr"
        },
        {
          "output_type": "stream",
          "text": [
            "Successfully downloaded train-images-idx3-ubyte.gz 9912422 bytes.\n",
            "Extracting MNIST_data/train-images-idx3-ubyte.gz\n"
          ],
          "name": "stdout"
        },
        {
          "output_type": "stream",
          "text": [
            "W0626 10:39:41.660118 140067972093824 deprecation.py:323] From /usr/local/lib/python3.6/dist-packages/tensorflow/contrib/learn/python/learn/datasets/mnist.py:267: extract_labels (from tensorflow.contrib.learn.python.learn.datasets.mnist) is deprecated and will be removed in a future version.\n",
            "Instructions for updating:\n",
            "Please use tf.data to implement this functionality.\n",
            "W0626 10:39:41.664458 140067972093824 deprecation.py:323] From /usr/local/lib/python3.6/dist-packages/tensorflow/contrib/learn/python/learn/datasets/mnist.py:110: dense_to_one_hot (from tensorflow.contrib.learn.python.learn.datasets.mnist) is deprecated and will be removed in a future version.\n",
            "Instructions for updating:\n",
            "Please use tf.one_hot on tensors.\n"
          ],
          "name": "stderr"
        },
        {
          "output_type": "stream",
          "text": [
            "Successfully downloaded train-labels-idx1-ubyte.gz 28881 bytes.\n",
            "Extracting MNIST_data/train-labels-idx1-ubyte.gz\n",
            "Successfully downloaded t10k-images-idx3-ubyte.gz 1648877 bytes.\n",
            "Extracting MNIST_data/t10k-images-idx3-ubyte.gz\n"
          ],
          "name": "stdout"
        },
        {
          "output_type": "stream",
          "text": [
            "W0626 10:39:41.925203 140067972093824 deprecation.py:323] From /usr/local/lib/python3.6/dist-packages/tensorflow/contrib/learn/python/learn/datasets/mnist.py:290: DataSet.__init__ (from tensorflow.contrib.learn.python.learn.datasets.mnist) is deprecated and will be removed in a future version.\n",
            "Instructions for updating:\n",
            "Please use alternatives such as official/mnist/dataset.py from tensorflow/models.\n"
          ],
          "name": "stderr"
        },
        {
          "output_type": "stream",
          "text": [
            "Successfully downloaded t10k-labels-idx1-ubyte.gz 4542 bytes.\n",
            "Extracting MNIST_data/t10k-labels-idx1-ubyte.gz\n"
          ],
          "name": "stdout"
        }
      ]
    },
    {
      "cell_type": "markdown",
      "metadata": {
        "id": "RKpbCjLcXY4v",
        "colab_type": "text"
      },
      "source": [
        "The <span style=\"background-color:#dcdcdc\"> one-hot = True</span> argument only means that, in contrast to Binary representation, the labels will be presented in a way that to represent a number N, the $N^{th}$ bit is 1 while the the other bits are 0. For example, five and zero in a binary code would be:"
      ]
    },
    {
      "cell_type": "markdown",
      "metadata": {
        "id": "KFfbs30JXY4w",
        "colab_type": "text"
      },
      "source": [
        "<pre>\n",
        "Number representation:    0\n",
        "Binary encoding:        [2^5]  [2^4]   [2^3]   [2^2]   [2^1]   [2^0]  \n",
        "Array/vector:             0      0       0       0       0       0 \n",
        "\n",
        "Number representation:    5\n",
        "Binary encoding:        [2^5]  [2^4]   [2^3]   [2^2]   [2^1]   [2^0]  \n",
        "Array/vector:             0      0       0       1       0       1  \n",
        "</pre>"
      ]
    },
    {
      "cell_type": "markdown",
      "metadata": {
        "id": "5ck-fpCtXY4w",
        "colab_type": "text"
      },
      "source": [
        "Using a different notation, the same digits using one-hot vector representation can be show as: "
      ]
    },
    {
      "cell_type": "markdown",
      "metadata": {
        "id": "l5q_2s5ZXY4x",
        "colab_type": "text"
      },
      "source": [
        "<pre>\n",
        "Number representation:    0\n",
        "One-hot encoding:        [5]   [4]    [3]    [2]    [1]   [0]  \n",
        "Array/vector:             0     0      0      0      0     1   \n",
        "\n",
        "Number representation:    5\n",
        "One-hot encoding:        [5]   [4]    [3]    [2]    [1]    [0]  \n",
        "Array/vector:             1     0      0      0      0      0   \n",
        "</pre>"
      ]
    },
    {
      "cell_type": "markdown",
      "metadata": {
        "id": "JKc75IpIXY4z",
        "colab_type": "text"
      },
      "source": [
        "<h3>Understanding the imported data</h3>"
      ]
    },
    {
      "cell_type": "markdown",
      "metadata": {
        "id": "I-ZT3UbiXY40",
        "colab_type": "text"
      },
      "source": [
        "The imported data can be divided as follow:\n",
        "\n",
        "- Training (mnist.train) >>  Use the given dataset with inputs and related outputs for training of NN. In our case, if you give an image that you know that represents a \"nine\", this set will tell the neural network that we expect a \"nine\" as the output.  \n",
        "        - 55,000 data points\n",
        "        - mnist.train.images for inputs\n",
        "        - mnist.train.labels for outputs\n",
        "  \n",
        "   \n",
        "- Validation (mnist.validation) >> The same as training, but now the data is used to generate model properties (classification error, for example) and from this, tune parameters like the optimal number of hidden units or determine a stopping point for the back-propagation algorithm  \n",
        "        - 5,000 data points\n",
        "        - mnist.validation.images for inputs\n",
        "        - mnist.validation.labels for outputs\n",
        "  \n",
        "  \n",
        "- Test (mnist.test) >> the model does not have access to this informations prior to the testing phase. It is used to evaluate the performance and accuracy of the model against \"real life situations\". No further optimization beyond this point.  \n",
        "        - 10,000 data points\n",
        "        - mnist.test.images for inputs\n",
        "        - mnist.test.labels for outputs\n",
        "  "
      ]
    },
    {
      "cell_type": "markdown",
      "metadata": {
        "id": "NHW3BLPMXY41",
        "colab_type": "text"
      },
      "source": [
        "<h3>Creating an interactive section</h3>"
      ]
    },
    {
      "cell_type": "markdown",
      "metadata": {
        "id": "UDP4-q1DXY42",
        "colab_type": "text"
      },
      "source": [
        "You have two basic options when using TensorFlow to run your code:\n",
        "\n",
        "- [Build graphs and run session] Do all the set-up and THEN execute a session to evaluate tensors and run operations (ops) \n",
        "- [Interactive session] create your coding and run on the fly. \n",
        "\n",
        "For this first part, we will use the interactive session that is more suitable for environments like Jupyter notebooks."
      ]
    },
    {
      "cell_type": "code",
      "metadata": {
        "id": "Xm2Q5hamXY43",
        "colab_type": "code",
        "colab": {}
      },
      "source": [
        "sess = tf.InteractiveSession()"
      ],
      "execution_count": 0,
      "outputs": []
    }
  ]
}