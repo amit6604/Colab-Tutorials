{
  "nbformat": 4,
  "nbformat_minor": 0,
  "metadata": {
    "colab": {
      "name": "text2speech.ipynb",
      "provenance": [],
      "authorship_tag": "ABX9TyN3I47a6k+ZakVeusMqbtSR",
      "include_colab_link": true
    },
    "kernelspec": {
      "name": "python3",
      "display_name": "Python 3"
    },
    "accelerator": "GPU"
  },
  "cells": [
    {
      "cell_type": "markdown",
      "metadata": {
        "id": "view-in-github",
        "colab_type": "text"
      },
      "source": [
        "<a href=\"https://colab.research.google.com/github/amit6604/Colab-Tutorials/blob/master/text2speech.ipynb\" target=\"_parent\"><img src=\"https://colab.research.google.com/assets/colab-badge.svg\" alt=\"Open In Colab\"/></a>"
      ]
    },
    {
      "cell_type": "code",
      "metadata": {
        "id": "wEGSAw5mjGJw",
        "colab_type": "code",
        "colab": {
          "base_uri": "https://localhost:8080/",
          "height": 366
        },
        "outputId": "a29920b8-eb1f-4d16-aa54-a69168ea94ce"
      },
      "source": [
        "!pip install gtts\n"
      ],
      "execution_count": 1,
      "outputs": [
        {
          "output_type": "stream",
          "text": [
            "Collecting gtts\n",
            "  Downloading https://files.pythonhosted.org/packages/a1/0c/4ca77eca3b739a4a08360930643f58d714e302fee0d2f8c654e67d9af8e7/gTTS-2.1.1-py3-none-any.whl\n",
            "Requirement already satisfied: click in /usr/local/lib/python3.6/dist-packages (from gtts) (7.1.2)\n",
            "Collecting gtts-token>=1.1.3\n",
            "  Downloading https://files.pythonhosted.org/packages/e7/25/ca6e9cd3275bfc3097fe6b06cc31db6d3dfaf32e032e0f73fead9c9a03ce/gTTS-token-1.1.3.tar.gz\n",
            "Requirement already satisfied: six in /usr/local/lib/python3.6/dist-packages (from gtts) (1.12.0)\n",
            "Requirement already satisfied: requests in /usr/local/lib/python3.6/dist-packages (from gtts) (2.23.0)\n",
            "Requirement already satisfied: beautifulsoup4 in /usr/local/lib/python3.6/dist-packages (from gtts) (4.6.3)\n",
            "Requirement already satisfied: certifi>=2017.4.17 in /usr/local/lib/python3.6/dist-packages (from requests->gtts) (2020.4.5.1)\n",
            "Requirement already satisfied: urllib3!=1.25.0,!=1.25.1,<1.26,>=1.21.1 in /usr/local/lib/python3.6/dist-packages (from requests->gtts) (1.24.3)\n",
            "Requirement already satisfied: chardet<4,>=3.0.2 in /usr/local/lib/python3.6/dist-packages (from requests->gtts) (3.0.4)\n",
            "Requirement already satisfied: idna<3,>=2.5 in /usr/local/lib/python3.6/dist-packages (from requests->gtts) (2.9)\n",
            "Building wheels for collected packages: gtts-token\n",
            "  Building wheel for gtts-token (setup.py) ... \u001b[?25l\u001b[?25hdone\n",
            "  Created wheel for gtts-token: filename=gTTS_token-1.1.3-cp36-none-any.whl size=4097 sha256=7a5209b0df1395a53bb8c3cda249d36a7f984a11d5e95ad4af2536e30d3b1171\n",
            "  Stored in directory: /root/.cache/pip/wheels/dd/11/61/33f7e51bf545e910552b2255eead2a7cd8ef54064b46dceb34\n",
            "Successfully built gtts-token\n",
            "Installing collected packages: gtts-token, gtts\n",
            "Successfully installed gtts-2.1.1 gtts-token-1.1.3\n"
          ],
          "name": "stdout"
        }
      ]
    },
    {
      "cell_type": "code",
      "metadata": {
        "id": "6anm3basjOEe",
        "colab_type": "code",
        "colab": {
          "base_uri": "https://localhost:8080/",
          "height": 35
        },
        "outputId": "de81fbdd-ccb6-4121-9785-045cd7b2952d"
      },
      "source": [
        "from gtts import gTTS #Google Text to Speech API\n",
        "import os\n",
        "text = \"I want to thank our great Vice President for your fearless and tireless commitment to fulfilling America’s destiny in space. Thank you very much, Mike. Great job. Great job. We’re all so grateful to Mike’s wonderful wife, Karen, for being here and for all she does for our country. Thank you. Thank you, Karen. Before going further on this exciting day for all America in space, I want to say a few words about the situation in Minnesota. The death of George Floyd on the streets of Minneapolis was a grave tragedy. It should never have happened. It has filled Americans all over the country with horror, anger and grief. Yesterday, I spoke to George’s family and expressed the sorrow of our entire nation for their loss. I stand before you as a friend and ally to every American seeking justice and peace and I stand before you in firm opposition to anyone exploiting this tragedy to loot, rob, attack and menace. Healing, not hatred, justice, not chaos, are the mission at hand.\"\n",
        "language = 'en' #English\n",
        "speech = gTTS(text = text, lang= language, slow=False)\n",
        "speech.save(\"speech.mp3\")\n",
        "os.system(\"start speech.mp3\")"
      ],
      "execution_count": 2,
      "outputs": [
        {
          "output_type": "execute_result",
          "data": {
            "text/plain": [
              "32512"
            ]
          },
          "metadata": {
            "tags": []
          },
          "execution_count": 2
        }
      ]
    },
    {
      "cell_type": "markdown",
      "metadata": {
        "id": "020bBZ9dj8uf",
        "colab_type": "text"
      },
      "source": [
        "# New Section"
      ]
    }
  ]
}